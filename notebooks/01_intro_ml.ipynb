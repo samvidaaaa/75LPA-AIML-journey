# My First ML Notebook

from sklearn.linear_model import LinearRegression
import numpy as np
import matplotlib.pyplot as plt

# Sample data
X = np.array([[1], [2], [3], [4], [5]])
y = np.array([2, 4, 6, 8, 10])

# Create model and fit
model = LinearRegression()
model.fit(X, y)

# Predict
pred = model.predict(np.array([[6]]))
print("Prediction for 6:", pred)

# Plot
plt.scatter(X, y)
plt.plot(X, model.predict(X), color='red')
plt.show()
