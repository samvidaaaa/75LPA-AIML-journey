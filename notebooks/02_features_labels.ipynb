import pandas as pd

# Simple dataset
data = {
    "Size_sqft": [1000, 1500, 2000, 2500],
    "Bedrooms": [2, 3, 3, 4],
    "Price": [200000, 250000, 300000, 400000]
}

df = pd.DataFrame(data)

# Features (X) = input columns
X = df[["Size_sqft", "Bedrooms"]]

# Label (y) = output column
y = df["Price"]

print("Features (X):")
print(X)

print("\nLabel (y):")
print(y)
